{
 "cells": [
  {
   "cell_type": "code",
   "execution_count": null,
   "metadata": {},
   "outputs": [],
   "source": [
    "!pip install tensorflow-federated"
   ]
  },
  {
   "cell_type": "code",
   "execution_count": null,
   "metadata": {},
   "outputs": [],
   "source": [
    "import tensorflow_federated as tff\n",
    "train_data, test_data = tff.simulation.datasets.shakespeare.load_data()"
   ]
  },
  {
   "cell_type": "code",
   "execution_count": null,
   "metadata": {},
   "outputs": [],
   "source": [
    "import os\n",
    "import json\n",
    "\n",
    "shakespeare_train, shakespeare_test = tff.simulation.datasets.shakespeare.load_data()\n",
    "\n",
    "output_dir = 'shakespeare_data'\n",
    "os.makedirs(output_dir, exist_ok=True)\n",
    "\n",
    "def save_dataset(dataset, split):\n",
    "    split_dir = os.path.join(output_dir, split)\n",
    "    os.makedirs(split_dir, exist_ok=True)\n",
    "\n",
    "    for client_id in dataset.client_ids:\n",
    "        client_data = dataset.create_tf_dataset_for_client(client_id)\n",
    "\n",
    "        client_data_list = []\n",
    "        for example in client_data:\n",
    "            example_dict = {key: value.numpy().decode('utf-8') for key, value in example.items()}\n",
    "            client_data_list.append(example_dict)\n",
    "\n",
    "        with open(os.path.join(split_dir, f'{client_id}.json'), 'w') as f:\n",
    "            json.dump(client_data_list, f)\n",
    "\n",
    "save_dataset(shakespeare_train, 'train')\n",
    "save_dataset(shakespeare_test, 'test')"
   ]
  },
  {
   "cell_type": "code",
   "execution_count": null,
   "metadata": {},
   "outputs": [],
   "source": [
    "# download the zip\n",
    "!zip -r shakespeare_data.zip shakespeare_data\n",
    "from google.colab import files\n",
    "files.download('shakespeare_data.zip')"
   ]
  }
 ],
 "metadata": {
  "language_info": {
   "name": "python"
  }
 },
 "nbformat": 4,
 "nbformat_minor": 2
}
