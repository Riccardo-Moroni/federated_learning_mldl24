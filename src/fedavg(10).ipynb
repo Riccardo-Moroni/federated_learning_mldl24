{
  "nbformat": 4,
  "nbformat_minor": 0,
  "metadata": {
    "colab": {
      "provenance": [],
      "gpuType": "T4"
    },
    "kernelspec": {
      "name": "python3",
      "display_name": "Python 3"
    },
    "language_info": {
      "name": "python"
    },
    "accelerator": "GPU"
  },
  "cells": [
    {
      "cell_type": "markdown",
      "source": [
        "Paper: https://arxiv.org/abs/1602.05629"
      ],
      "metadata": {
        "id": "8KngE1yXgOmg"
      }
    },
    {
      "cell_type": "code",
      "execution_count": 1,
      "metadata": {
        "id": "PSmFOKMBMTjP"
      },
      "outputs": [],
      "source": [
        "import torch\n",
        "import torch.nn as nn\n",
        "from torchvision import transforms\n",
        "from torchvision.ops import MLP\n",
        "from PIL import Image\n",
        "import numpy as np\n",
        "from torch.utils.data import DataLoader\n",
        "from torchvision.datasets import MNIST\n",
        "from torch.optim import SGD\n",
        "import copy\n",
        "from tqdm import tqdm\n",
        "from collections import OrderedDict\n",
        "import random\n",
        "import matplotlib.pyplot as plt"
      ]
    },
    {
      "cell_type": "markdown",
      "source": [
        "## Data"
      ],
      "metadata": {
        "id": "L5JVKHUcf4Pz"
      }
    },
    {
      "cell_type": "code",
      "source": [
        "K = 100\n",
        "S = np.array(range(K))"
      ],
      "metadata": {
        "id": "viVq7PLXnRkI"
      },
      "execution_count": 2,
      "outputs": []
    },
    {
      "cell_type": "code",
      "source": [
        "preprocess = transforms.Compose([\n",
        "    transforms.ToTensor(),\n",
        "    transforms.Lambda(lambda x: torch.flatten(x)) # remove for cnn\n",
        "])\n",
        "\n",
        "train_dataset = MNIST('datasets/mnist', train=True, download=True, transform=preprocess)\n",
        "test_dataset = MNIST('datasets/mnist', train=False, download=True, transform=preprocess)\n",
        "\n",
        "test_loader = DataLoader(test_dataset, batch_size=128, shuffle=False)"
      ],
      "metadata": {
        "id": "uUOA9_qTMcO8"
      },
      "execution_count": 23,
      "outputs": []
    },
    {
      "cell_type": "code",
      "source": [
        "iid = True\n",
        "samples_per_client = int(len(train_dataset) / K)\n",
        "shards_per_client = 2\n",
        "\n",
        "def split_data(dataset, iid=True):\n",
        "    if iid:\n",
        "        return torch.utils.data.random_split(train_dataset, [samples_per_client] * K)\n",
        "    else:\n",
        "        sorted_dataset = sorted(train_dataset, key=lambda x: x[1])\n",
        "        shard_size = int(samples_per_client / shards_per_client)\n",
        "        shards = [\n",
        "            torch.utils.data.Subset(\n",
        "                sorted_dataset,\n",
        "                range(i*shard_size, (i+1)*shard_size)\n",
        "            )\n",
        "            for i in range(K*shards_per_client)\n",
        "        ]\n",
        "\n",
        "        random.shuffle(shards)\n",
        "\n",
        "        return [\n",
        "            torch.utils.data.ConcatDataset([shards[2*i], shards[2*i+1]])\n",
        "            for i in range(K)\n",
        "        ]\n",
        "\n",
        "\n",
        "client_datasets = split_data(train_dataset, iid)\n",
        "assert len(client_datasets) == K\n",
        "assert len(client_datasets[0]) == samples_per_client\n",
        "assert iid or all([0 < len(set(map(lambda x: x[1], client_datasets[i]))) <= 4 for i in range(K)])"
      ],
      "metadata": {
        "id": "YLGe_BkJ2YdR"
      },
      "execution_count": 24,
      "outputs": []
    },
    {
      "cell_type": "markdown",
      "source": [
        "## Models"
      ],
      "metadata": {
        "id": "GA7aGx-Gf7vC"
      }
    },
    {
      "cell_type": "code",
      "source": [
        "model_2nn = MLP(28*28, [200, 200, 10], activation_layer=torch.nn.ReLU).cuda()\n",
        "model_2nn, sum(p.numel() for p in model_2nn.parameters())"
      ],
      "metadata": {
        "id": "aduyNM2Qc3KO",
        "colab": {
          "base_uri": "https://localhost:8080/"
        },
        "outputId": "0a2c8027-fed0-439b-b563-349b7dcf711d"
      },
      "execution_count": 5,
      "outputs": [
        {
          "output_type": "execute_result",
          "data": {
            "text/plain": [
              "(MLP(\n",
              "   (0): Linear(in_features=784, out_features=200, bias=True)\n",
              "   (1): ReLU()\n",
              "   (2): Dropout(p=0.0, inplace=False)\n",
              "   (3): Linear(in_features=200, out_features=200, bias=True)\n",
              "   (4): ReLU()\n",
              "   (5): Dropout(p=0.0, inplace=False)\n",
              "   (6): Linear(in_features=200, out_features=10, bias=True)\n",
              "   (7): Dropout(p=0.0, inplace=False)\n",
              " ),\n",
              " 199210)"
            ]
          },
          "metadata": {},
          "execution_count": 5
        }
      ]
    },
    {
      "cell_type": "code",
      "source": [
        "class CustomCNN(nn.Module):\n",
        "    def __init__(self):\n",
        "        super(CustomCNN, self).__init__()\n",
        "        self.conv1 = nn.Conv2d(1, 32, kernel_size=5)\n",
        "        self.conv2 = nn.Conv2d(32, 64, kernel_size=5)\n",
        "        self.pool = nn.MaxPool2d(2, 2)\n",
        "        self.fc1 = nn.Linear(4* 4 * 64, 512)\n",
        "        self.fc2 = nn.Linear(512, 10)\n",
        "\n",
        "    def forward(self, x):\n",
        "        x = self.pool(self.conv1(x).relu())\n",
        "        x = self.pool(self.conv2(x).relu())\n",
        "\n",
        "        x = torch.flatten(x, 1)\n",
        "        x = self.fc1(x).relu()\n",
        "        x = self.fc2(x)\n",
        "        x = nn.functional.softmax(x)\n",
        "\n",
        "        return x\n",
        "\n",
        "\n",
        "model_cnn = CustomCNN().cuda()\n",
        "model_cnn, sum(p.numel() for p in model_cnn.parameters())"
      ],
      "metadata": {
        "id": "Nj7oDtlikEJg",
        "colab": {
          "base_uri": "https://localhost:8080/"
        },
        "outputId": "898eecad-c5d3-46fc-a411-ef68ff86d571"
      },
      "execution_count": 6,
      "outputs": [
        {
          "output_type": "execute_result",
          "data": {
            "text/plain": [
              "(CustomCNN(\n",
              "   (conv1): Conv2d(1, 32, kernel_size=(5, 5), stride=(1, 1))\n",
              "   (conv2): Conv2d(32, 64, kernel_size=(5, 5), stride=(1, 1))\n",
              "   (pool): MaxPool2d(kernel_size=2, stride=2, padding=0, dilation=1, ceil_mode=False)\n",
              "   (fc1): Linear(in_features=1024, out_features=512, bias=True)\n",
              "   (fc2): Linear(in_features=512, out_features=10, bias=True)\n",
              " ),\n",
              " 582026)"
            ]
          },
          "metadata": {},
          "execution_count": 6
        }
      ]
    },
    {
      "cell_type": "markdown",
      "source": [
        "## Training"
      ],
      "metadata": {
        "id": "KOlyl_cif9vP"
      }
    },
    {
      "cell_type": "code",
      "source": [
        "T = 100\n",
        "test_freq = 20"
      ],
      "metadata": {
        "id": "9RNbgaj0TNS4"
      },
      "execution_count": 7,
      "outputs": []
    },
    {
      "cell_type": "code",
      "source": [
        "criterion = torch.nn.CrossEntropyLoss().cuda()\n",
        "\n",
        "def test(model):\n",
        "    model.eval()\n",
        "    test_loss = 0\n",
        "    correct = 0\n",
        "    total = 0\n",
        "\n",
        "    with torch.no_grad():\n",
        "        for batch_idx, (inputs, targets) in enumerate(test_loader):\n",
        "            inputs, targets = inputs.cuda(), targets.cuda()\n",
        "            outputs = model(inputs)\n",
        "            loss = criterion(outputs, targets)\n",
        "\n",
        "            test_loss += loss.item()\n",
        "            _, predicted = outputs.max(1)\n",
        "            total += targets.size(0)\n",
        "            correct += predicted.eq(targets).sum().item()\n",
        "\n",
        "    test_loss = test_loss / len(test_loader)\n",
        "    test_accuracy = 100. * correct / total\n",
        "    print(f'Test Loss: {test_loss:.6f} Acc: {test_accuracy:.2f}%')\n",
        "    return test_accuracy\n",
        "\n",
        "\n",
        "def client_update(model, k, w, params):\n",
        "    model.train()\n",
        "    optimizer = torch.optim.SGD(model.parameters(), lr=0.1)\n",
        "    loader = DataLoader(client_datasets[k], batch_size=params['B'])\n",
        "\n",
        "    for i in range(params['E']):\n",
        "        for batch_idx, (inputs, targets) in enumerate(loader):\n",
        "            inputs, targets = inputs.cuda(), targets.cuda()\n",
        "            optimizer.zero_grad()\n",
        "            outputs = model(inputs)\n",
        "            loss = criterion(outputs, targets)\n",
        "            loss.backward()\n",
        "            optimizer.step()\n",
        "\n",
        "    return model.state_dict()\n",
        "\n",
        "\n",
        "def train(model, params):\n",
        "    accuracies = []\n",
        "    w = model.state_dict()\n",
        "    for t in tqdm(range(T)):\n",
        "        m = int(max(params['C']*K, 1))\n",
        "        s = np.random.choice(S, m, replace=False)\n",
        "\n",
        "        w_clients = []\n",
        "        for k in s:\n",
        "            w_clients.append(client_update(copy.deepcopy(model), k, w, params))\n",
        "\n",
        "        w = OrderedDict([\n",
        "            (\n",
        "                key,\n",
        "                sum(map(lambda x: x[key], w_clients)) / len(w_clients)\n",
        "            ) for key in w_clients[0].keys()\n",
        "        ])\n",
        "\n",
        "        model.load_state_dict(w)\n",
        "\n",
        "        if t % test_freq == 0 or t == T-1:\n",
        "            accuracies.append(test(model))\n",
        "\n",
        "    return accuracies\n",
        "\n",
        "params = {'C': 0.2, 'B': 10, 'E': 1}\n",
        "accuracies_cnn = train(model_cnn, params)"
      ],
      "metadata": {
        "id": "DUnGzbKJZscB",
        "colab": {
          "base_uri": "https://localhost:8080/"
        },
        "outputId": "2b3a33a0-c446-496d-84b8-a95d3d754700"
      },
      "execution_count": 8,
      "outputs": [
        {
          "output_type": "stream",
          "name": "stderr",
          "text": [
            "\r  0%|          | 0/100 [00:00<?, ?it/s]<ipython-input-6-20610ae151bd>:17: UserWarning: Implicit dimension choice for softmax has been deprecated. Change the call to include dim=X as an argument.\n",
            "  x = nn.functional.softmax(x)\n",
            "  1%|          | 1/100 [00:07<13:02,  7.90s/it]"
          ]
        },
        {
          "output_type": "stream",
          "name": "stdout",
          "text": [
            "Test Loss: 2.300001 Acc: 29.84%\n"
          ]
        },
        {
          "output_type": "stream",
          "name": "stderr",
          "text": [
            " 21%|██        | 21/100 [01:56<06:11,  4.70s/it]"
          ]
        },
        {
          "output_type": "stream",
          "name": "stdout",
          "text": [
            "Test Loss: 1.507220 Acc: 95.64%\n"
          ]
        },
        {
          "output_type": "stream",
          "name": "stderr",
          "text": [
            " 41%|████      | 41/100 [03:31<04:38,  4.72s/it]"
          ]
        },
        {
          "output_type": "stream",
          "name": "stdout",
          "text": [
            "Test Loss: 1.488156 Acc: 97.40%\n"
          ]
        },
        {
          "output_type": "stream",
          "name": "stderr",
          "text": [
            " 61%|██████    | 61/100 [04:58<02:59,  4.59s/it]"
          ]
        },
        {
          "output_type": "stream",
          "name": "stdout",
          "text": [
            "Test Loss: 1.481780 Acc: 97.97%\n"
          ]
        },
        {
          "output_type": "stream",
          "name": "stderr",
          "text": [
            " 81%|████████  | 81/100 [06:26<01:30,  4.75s/it]"
          ]
        },
        {
          "output_type": "stream",
          "name": "stdout",
          "text": [
            "Test Loss: 1.479321 Acc: 98.19%\n"
          ]
        },
        {
          "output_type": "stream",
          "name": "stderr",
          "text": [
            "100%|██████████| 100/100 [07:47<00:00,  4.67s/it]\n"
          ]
        }
      ]
    },
    {
      "cell_type": "code",
      "source": [
        "accuracies_2nn = train(model_2nn, params)"
      ],
      "metadata": {
        "colab": {
          "base_uri": "https://localhost:8080/"
        },
        "id": "qedHrTLlhOoN",
        "outputId": "321985f9-aafa-42f9-8686-07bfd1cdca4e"
      },
      "execution_count": 25,
      "outputs": [
        {
          "output_type": "stream",
          "name": "stderr",
          "text": [
            "  1%|          | 1/100 [00:04<08:10,  4.96s/it]"
          ]
        },
        {
          "output_type": "stream",
          "name": "stdout",
          "text": [
            "Test Loss: 1.560516 Acc: 70.43%\n"
          ]
        },
        {
          "output_type": "stream",
          "name": "stderr",
          "text": [
            " 21%|██        | 21/100 [01:18<05:09,  3.92s/it]"
          ]
        },
        {
          "output_type": "stream",
          "name": "stdout",
          "text": [
            "Test Loss: 0.166000 Acc: 95.01%\n"
          ]
        },
        {
          "output_type": "stream",
          "name": "stderr",
          "text": [
            " 41%|████      | 41/100 [02:31<03:49,  3.88s/it]"
          ]
        },
        {
          "output_type": "stream",
          "name": "stdout",
          "text": [
            "Test Loss: 0.107993 Acc: 96.68%\n"
          ]
        },
        {
          "output_type": "stream",
          "name": "stderr",
          "text": [
            " 61%|██████    | 61/100 [03:44<02:30,  3.87s/it]"
          ]
        },
        {
          "output_type": "stream",
          "name": "stdout",
          "text": [
            "Test Loss: 0.089269 Acc: 97.02%\n"
          ]
        },
        {
          "output_type": "stream",
          "name": "stderr",
          "text": [
            " 81%|████████  | 81/100 [04:57<01:15,  3.99s/it]"
          ]
        },
        {
          "output_type": "stream",
          "name": "stdout",
          "text": [
            "Test Loss: 0.076859 Acc: 97.51%\n"
          ]
        },
        {
          "output_type": "stream",
          "name": "stderr",
          "text": [
            "100%|██████████| 100/100 [06:12<00:00,  3.73s/it]\n"
          ]
        }
      ]
    },
    {
      "cell_type": "code",
      "source": [
        "plt.xlabel('rounds')\n",
        "plt.ylabel('accuracy')\n",
        "xx = np.arange(0, T + test_freq, test_freq)\n",
        "plt.plot(xx, accuracies_cnn, label='CNN', marker='.')\n",
        "plt.plot(xx, accuracies_2nn, label='2NN', marker='.')\n",
        "plt.legend()"
      ],
      "metadata": {
        "colab": {
          "base_uri": "https://localhost:8080/",
          "height": 466
        },
        "id": "tjGFSnfyguRh",
        "outputId": "f29c6ecc-c928-4db6-b011-f64785b8446f"
      },
      "execution_count": 37,
      "outputs": [
        {
          "output_type": "execute_result",
          "data": {
            "text/plain": [
              "<matplotlib.legend.Legend at 0x797d25eb2080>"
            ]
          },
          "metadata": {},
          "execution_count": 37
        },
        {
          "output_type": "display_data",
          "data": {
            "text/plain": [
              "<Figure size 640x480 with 1 Axes>"
            ],
            "image/png": "[encoded data removed]"
          },
          "metadata": {}
        }
      ]
    },
    {
      "cell_type": "code",
      "source": [
        "BB = [10, len(client_datasets[0])]\n",
        "EE = [1, 5]\n",
        "\n",
        "acc_dict = {}\n",
        "for B in BB:\n",
        "    for E in EE:\n",
        "        print(B, E)\n",
        "        params = {'C': 0.2, 'B': B, 'E': E}\n",
        "        acc_dict[f'B={B},E={E}'] = train(model_cnn, params)"
      ],
      "metadata": {
        "id": "ByaEAWKEmsra"
      },
      "execution_count": null,
      "outputs": []
    }
  ]
}