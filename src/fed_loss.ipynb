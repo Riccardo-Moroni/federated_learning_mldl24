{
 "cells": [
  {
   "cell_type": "code",
   "execution_count": null,
   "metadata": {
    "id": "PSmFOKMBMTjP"
   },
   "outputs": [],
   "source": [
    "import torch\n",
    "import torch.nn as nn\n",
    "from torchvision import transforms\n",
    "from torch.utils.data import DataLoader\n",
    "from torchvision.datasets import CIFAR100\n",
    "import copy\n",
    "from tqdm import tqdm\n",
    "from collections import OrderedDict\n",
    "from client_selector import ClientSelector\n",
    "from data_splitter import DataSplitter"
   ]
  },
  {
   "cell_type": "code",
   "execution_count": null,
   "metadata": {
    "colab": {
     "base_uri": "https://localhost:8080/"
    },
    "id": "VBdVX7qmDLYh",
    "outputId": "d035e628-5c58-4dcd-9599-87dadfa11aa5"
   },
   "outputs": [],
   "source": [
    "import wandb\n",
    "wandb.login()"
   ]
  },
  {
   "cell_type": "markdown",
   "metadata": {
    "id": "fWh1Xx1WqXbk"
   },
   "source": [
    "## Data"
   ]
  },
  {
   "cell_type": "code",
   "execution_count": null,
   "metadata": {
    "id": "viVq7PLXnRkI"
   },
   "outputs": [],
   "source": [
    "K = 100\n",
    "\n",
    "params = {\n",
    "    'K': K,\n",
    "    'C': 0.1,\n",
    "    'B': 64,\n",
    "    'J': 4,\n",
    "    'lr_client': 1e-1,\n",
    "    'participation': 'skewed',\n",
    "    'gamma': 5,\n",
    "    'rounds': 2000\n",
    "}"
   ]
  },
  {
   "cell_type": "code",
   "execution_count": null,
   "metadata": {
    "colab": {
     "base_uri": "https://localhost:8080/"
    },
    "id": "HoAZ8gOdacB5",
    "outputId": "648d5855-3470-4708-8ecc-808e00b62d84"
   },
   "outputs": [],
   "source": [
    "preprocess = transforms.Compose([\n",
    "    transforms.RandomCrop((28, 28)),\n",
    "    transforms.RandomHorizontalFlip(),\n",
    "    transforms.ToTensor(),\n",
    "    transforms.Normalize(mean=[0.5071, 0.4867, 0.4408], std=[0.2675, 0.2565, 0.2761])\n",
    "])\n",
    "\n",
    "train_dataset = CIFAR100('datasets/cifar100', train=True, transform=preprocess, download=True)\n",
    "test_dataset = CIFAR100('datasets/cifar100', train=False, transform=preprocess, download=True)\n",
    "\n",
    "test_loader = DataLoader(test_dataset, batch_size=64, shuffle=False)"
   ]
  },
  {
   "cell_type": "code",
   "execution_count": null,
   "metadata": {
    "colab": {
     "base_uri": "https://localhost:8080/"
    },
    "id": "YLGe_BkJ2YdR",
    "outputId": "7ae0ea28-da22-4c16-ed81-ab69bd2b4059"
   },
   "outputs": [],
   "source": [
    "data_split_params = {\n",
    "    'K': K,\n",
    "    'split_method': 'non-iid',\n",
    "    'n_labels': 10\n",
    "}\n",
    "\n",
    "data_splitter = DataSplitter(data_split_params, train_dataset)\n",
    "client_datasets = data_splitter.split()"
   ]
  },
  {
   "cell_type": "code",
   "execution_count": null,
   "metadata": {
    "id": "qkLe-hT6bbtH"
   },
   "outputs": [],
   "source": [
    "def split_train_test(d):\n",
    "  train_size = int(0.8 * len(d))\n",
    "  test_size = len(d) - train_size\n",
    "  train_dataset, test_dataset = torch.utils.data.random_split(d, [train_size, test_size])\n",
    "\n",
    "  return train_dataset, test_dataset\n",
    "\n",
    "train_test_client_datasets = [split_train_test(d) for d in client_datasets]\n",
    "train_client_datasets = [d[0] for d in train_test_client_datasets]\n",
    "test_client_datasets = [d[1] for d in train_test_client_datasets]"
   ]
  },
  {
   "cell_type": "code",
   "execution_count": null,
   "metadata": {
    "id": "_gzlPTDXPHaZ"
   },
   "outputs": [],
   "source": [
    "client_selector = ClientSelector(params)"
   ]
  },
  {
   "cell_type": "markdown",
   "metadata": {
    "id": "vMCoMOlAqhoy"
   },
   "source": [
    "## Model"
   ]
  },
  {
   "cell_type": "code",
   "execution_count": null,
   "metadata": {
    "id": "CCFyReyRRmzH"
   },
   "outputs": [],
   "source": [
    "class LeNet5_circa(nn.Module):\n",
    "    def __init__(self):\n",
    "        super( LeNet5_circa, self).__init__()\n",
    "        self.conv1 = nn.Conv2d(3, 64, kernel_size=5)\n",
    "        self.conv2 = nn.Conv2d(64, 64, kernel_size=5)\n",
    "        self.pool = nn.MaxPool2d(2, 2)\n",
    "        self.fc1 = nn.Linear(4 * 4 * 64, 384)\n",
    "        self.fc2 = nn.Linear(384, 192)\n",
    "        self.fc3 = nn.Linear(192, 100)\n",
    "\n",
    "    def forward(self, x):\n",
    "        x = self.pool(self.conv1(x).relu())\n",
    "        x = self.pool(self.conv2(x).relu())\n",
    "        x = torch.flatten(x, 1)\n",
    "        x = self.fc1(x).relu()\n",
    "        x = self.fc2(x).relu()\n",
    "        x = self.fc3(x)\n",
    "\n",
    "        return x\n",
    "\n",
    "\n",
    "model = LeNet5_circa().cuda()\n",
    "model.to('cuda')\n",
    "\n",
    "criterion = torch.nn.CrossEntropyLoss().cuda()"
   ]
  },
  {
   "cell_type": "code",
   "execution_count": null,
   "metadata": {
    "colab": {
     "base_uri": "https://localhost:8080/",
     "height": 128
    },
    "id": "PbZMyaonDdDP",
    "outputId": "3c4b777d-5adb-45c4-b09b-179c9121f2d4"
   },
   "outputs": [],
   "source": [
    "wandb.init(\n",
    "    project='fl',\n",
    "    name=f'fed mod {data_split_params[\"split_method\"]}, J={params[\"J\"]}, lr={params[\"lr_client\"]}, n_labels={data_split_params[\"n_labels\"]}, gamma={params[\"gamma\"]}',\n",
    "    config={**params, **data_split_params}\n",
    ")"
   ]
  },
  {
   "cell_type": "markdown",
   "metadata": {
    "id": "l8gzjnPIqpCy"
   },
   "source": [
    "## Utils"
   ]
  },
  {
   "cell_type": "code",
   "execution_count": null,
   "metadata": {
    "id": "pD_OTrI6qoMR"
   },
   "outputs": [],
   "source": [
    "def reduce_w(w_list, f):\n",
    "    return OrderedDict([\n",
    "            (key, f([x[key] for x in w_list])) for key in w_list[0].keys()\n",
    "        ])\n",
    "\n",
    "\n",
    "def tensor_sum(tensors_list, weights=None):\n",
    "    if weights:\n",
    "      return torch.sum(torch.stack([t*w for t, w in zip(tensors_list, weights)]), dim=0)\n",
    "    return torch.sum(torch.stack(tensors_list), dim=0)"
   ]
  },
  {
   "cell_type": "markdown",
   "metadata": {
    "id": "f3HCdQRYqe5f"
   },
   "source": [
    "## Training"
   ]
  },
  {
   "cell_type": "code",
   "execution_count": null,
   "metadata": {
    "id": "9RNbgaj0TNS4"
   },
   "outputs": [],
   "source": [
    "T = params['rounds']\n",
    "test_freq = 50"
   ]
  },
  {
   "cell_type": "code",
   "execution_count": null,
   "metadata": {
    "colab": {
     "base_uri": "https://localhost:8080/"
    },
    "id": "DUnGzbKJZscB",
    "outputId": "5c4b88b0-1393-4fa8-e07e-29e892118a60"
   },
   "outputs": [],
   "source": [
    "def test(model, loader, verbose=False):\n",
    "    model.eval()\n",
    "    test_loss = 0\n",
    "    correct = 0\n",
    "    total = 0\n",
    "\n",
    "    with torch.no_grad():\n",
    "        for batch_idx, (inputs, targets) in enumerate(loader):\n",
    "            inputs, targets = inputs.cuda(), targets.cuda()\n",
    "            outputs = model(inputs)\n",
    "            loss = criterion(outputs, targets)\n",
    "\n",
    "            test_loss += loss.item()\n",
    "            _, predicted = outputs.max(1)\n",
    "            total += targets.size(0)\n",
    "            correct += predicted.eq(targets).sum().item()\n",
    "\n",
    "    test_loss = test_loss / len(loader)\n",
    "    test_accuracy = 100. * correct / total\n",
    "    if verbose:\n",
    "        print(f'Test Loss: {test_loss:.6f} Acc: {test_accuracy:.2f}%')\n",
    "    return test_accuracy, test_loss\n",
    "\n",
    "\n",
    "def client_update(model, k, params):\n",
    "    model.train()\n",
    "    optimizer = torch.optim.SGD(model.parameters(), lr=params['lr_client'], weight_decay=4e-4)\n",
    "    loader = DataLoader(train_client_datasets[k], batch_size=params['B'], shuffle=True)\n",
    "    test_client_loader = DataLoader(test_client_datasets[k], batch_size=params['B'], shuffle=True)\n",
    "\n",
    "    i = 0\n",
    "    for i in range(params['J']):\n",
    "        for batch_idx, (inputs, targets) in enumerate(loader):\n",
    "            inputs, targets = inputs.cuda(), targets.cuda()\n",
    "            optimizer.zero_grad()\n",
    "            outputs = model(inputs)\n",
    "            loss = criterion(outputs, targets)\n",
    "            loss.backward()\n",
    "            optimizer.step()\n",
    "            i += 1\n",
    "\n",
    "            if i >= params['J']:\n",
    "              return model.state_dict(), *test(model, test_client_loader)\n",
    "\n",
    "    return model.state_dict(), *test(model, test_client_loader)\n",
    "\n",
    "\n",
    "def train(model, params):\n",
    "    accuracies = []\n",
    "    losses = []\n",
    "    w = model.state_dict()\n",
    "    for t in tqdm(range(T)):\n",
    "        s = client_selector.sample()\n",
    "\n",
    "        w_clients = []\n",
    "        w_losses = []\n",
    "        for k in s:\n",
    "            client_w, client_acc, client_loss = client_update(copy.deepcopy(model), k, params)\n",
    "            w_clients.append(client_w)\n",
    "            w_losses.append(client_loss)\n",
    "\n",
    "        w_sum = sum(w_losses)\n",
    "        weights = [l/w_sum for l in w_losses]\n",
    "        w = reduce_w(\n",
    "            w_clients,\n",
    "            lambda x: tensor_sum(x, weights)\n",
    "        )\n",
    "\n",
    "        model.load_state_dict(w)\n",
    "\n",
    "        if t % test_freq == 0 or t == T-1:\n",
    "            acc, loss = test(model, test_loader, True)\n",
    "            accuracies.append(acc)\n",
    "            losses.append(loss)\n",
    "            wandb.log({'acc': acc, 'loss': loss, 'round': t})\n",
    "\n",
    "    return accuracies, losses\n",
    "\n",
    "\n",
    "accuracies, losses = train(model, params)"
   ]
  }
 ],
 "metadata": {
  "accelerator": "GPU",
  "colab": {
   "collapsed_sections": [
    "jB4uZhMYe0nO"
   ],
   "gpuType": "T4",
   "provenance": []
  },
  "kernelspec": {
   "display_name": "Python 3 (ipykernel)",
   "language": "python",
   "name": "python3"
  },
  "language_info": {
   "codemirror_mode": {
    "name": "ipython",
    "version": 3
   },
   "file_extension": ".py",
   "mimetype": "text/x-python",
   "name": "python",
   "nbconvert_exporter": "python",
   "pygments_lexer": "ipython3",
   "version": "3.10.12"
  }
 },
 "nbformat": 4,
 "nbformat_minor": 4
}
